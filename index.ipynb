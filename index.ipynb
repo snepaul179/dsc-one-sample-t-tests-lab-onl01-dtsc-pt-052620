{
 "cells": [
  {
   "cell_type": "markdown",
   "metadata": {},
   "source": [
    "# One Sample T-Test - Lab\n",
    "\n",
    "## Introduction\n",
    "Just as you previously used the t-distribution to provide confidence intervals for estimating the population mean, you can also use similar methods to test whether two populations are different, statistically speaking. To do this, you can use a t-test.\n",
    "\n",
    "## Objectives\n",
    "You will be able to:\n",
    "\n",
    "* Perform a one sample t-test and make conclusions about an experiment based on the results\n",
    "\n",
    "### Exercise 1: \n",
    "\n",
    "Create a function in Python `one_sample_ttest(sample, popmean, alpha)` that will take in sample data (an array of observations), the population mean and the alpha value to calculate and print out the t-statistic, critical t-value, and p-value for the sample and identify if the results are significant or not. The function should also create a visualization using `seaborn` of the distribution to check for normality."
   ]
  },
  {
   "cell_type": "code",
   "execution_count": 2,
   "metadata": {
    "ExecuteTime": {
     "end_time": "2020-08-16T03:12:30.468280Z",
     "start_time": "2020-08-16T03:12:29.579916Z"
    }
   },
   "outputs": [],
   "source": [
    "import matplotlib.pyplot as plt\n",
    "import scipy.stats as stats\n",
    "import numpy as np\n",
    "import seaborn as sns"
   ]
  },
  {
   "cell_type": "code",
   "execution_count": 39,
   "metadata": {
    "ExecuteTime": {
     "end_time": "2020-08-16T04:26:38.023116Z",
     "start_time": "2020-08-16T04:26:38.007791Z"
    }
   },
   "outputs": [],
   "source": [
    "def one_sample_ttest(sample, popmean, alpha):\n",
    "    fig = plt.figure(figsize=(8,10))\n",
    "    ax1 = plt.subplot(111)\n",
    "\n",
    "    # Visualize sample distribution for normality \n",
    "    sns.distplot(sample, ax = ax1)\n",
    "\n",
    "    \n",
    "    # Population mean \n",
    "    print(popmean)\n",
    "    \n",
    "    \n",
    "    x = np.array(sample)\n",
    "\n",
    "    # Sample mean (x̄) using NumPy mean()\n",
    "    x_bar = x.mean()\n",
    "    print(x_bar)\n",
    "\n",
    "    # Sample Standard Deviation (sigma) using Numpy\n",
    "    x_std = np.std(x)\n",
    "    \n",
    "    # Degrees of freedom\\\\\n",
    "    df = len(x)-1\n",
    "    \n",
    "    # Calculate the critical t-value\n",
    "    crit_t = stats.t.ppf((1-alpha),df = df)\n",
    "    # Calculate the t-value and p-value      \n",
    "    #t_value, p_value = stats.ttest_1samp(sample, popmean)\n",
    "    t_value = (x_bar - popmean)/(x_std/np.sqrt(len(x)))\n",
    "    p_value = stats.t.cdf(t_value, df = df)\n",
    "    # return results\n",
    "    plt.vlines(x_bar,0,0.062, color = 'b', label= \"Sample Mean\")\n",
    "    plt.vlines(((crit_t*(x_std/np.sqrt(len(x))))+popmean), 0,0.062, color = 'r', label= \"Critical t_value\")\n",
    "    plt.legend()\n",
    "#     pop_dist = stats.norm.pdf((popmean - x_std*4, popmean - x_std*4), loc = 65, scale = x_std)\n",
    "#     sns.distplot(pop_dist, ax = ax1)\n",
    "    if (t_value > crit_t) and (p_value<alpha):\n",
    "        print (\"Null hypothesis rejected. Results are statistically significant with t-value =\", \n",
    "                round(t_value, 2), \"critical t-value =\", crit_t, \"and p-value =\", np.round(p_value, 10))\n",
    "    else:\n",
    "        print (\"Null hypothesis is True with t-value =\", \n",
    "                round(t_value, 2), \"critical t-value =\", crit_t, \"and p-value =\", np.round(p_value, 10))\n",
    "    "
   ]
  },
  {
   "cell_type": "markdown",
   "metadata": {},
   "source": [
    "### Exercise 2:\n",
    "\n",
    "Use the function created in Exercise 1 to answer the following analytical questions.\n",
    "\n",
    "In a Python class, some of the students have taken online courses to improve their Python skills.\n",
    "The scores of a random sample of 20 students who underwent the online-course on a Python test are as follows: \n",
    "\n",
    "     [84.0, 92.4, 74.3, 79.4, 86.7, 75.3, 90.9, 86.1, 81.0, 85.1, \n",
    "      78.7, 73.5, 86.9, 87.4, 82.7, 81.9, 69.9, 77.2, 79.3, 83.3]\n",
    "\n",
    "The mean score of the class before the test is 65. The teacher thinks that the online training has really helped the students and now they should perform better than the class (population) mean. Use this to set your null and alternative hypotheses.\n",
    "\n",
    "1. Test to see if the sample mean is significantly different from 65 at the .05 level. Report the t- and p-values.\n",
    "2. The researcher realizes that she accidentally recorded the score that should have been 80.9 as 90.9. Are these corrected scores significantly different from 65 at the .05 level?\n",
    "\n",
    "Bonus: What is the effect size of the first sample compared to the population? How can you interpret this effect size in relation to your significance test?\n",
    "\n",
    "\n",
    "### Solution:"
   ]
  },
  {
   "cell_type": "markdown",
   "metadata": {
    "scrolled": true
   },
   "source": [
    "    Null Hypothesis (H0): The test score are same for both group\n",
    "    Alternative Hypothesis (Ha): The test score for online group is significantly more than the class"
   ]
  },
  {
   "cell_type": "code",
   "execution_count": 40,
   "metadata": {
    "ExecuteTime": {
     "end_time": "2020-08-16T04:26:55.357073Z",
     "start_time": "2020-08-16T04:26:55.121536Z"
    },
    "scrolled": true
   },
   "outputs": [
    {
     "name": "stdout",
     "output_type": "stream",
     "text": [
      "65\n",
      "81.80000000000001\n",
      "Null hypothesis is True with t-value = 13.02 critical t-value = 1.729132811521367 and p-value = 1.0\n"
     ]
    },
    {
     "data": {
      "image/png": "[encoded data removed]",
      "text/plain": [
       "<Figure size 576x720 with 1 Axes>"
      ]
     },
     "metadata": {
      "needs_background": "light"
     },
     "output_type": "display_data"
    }
   ],
   "source": [
    "online_group = [84.0, 92.4, 74.3, 79.4, 86.7, 75.3, 90.9, 86.1, 81.0, 85.1, 78.7, 73.5, 86.9, 87.4, 82.7, 81.9, 69.9, 77.2, 79.3, 83.3]\n",
    "pop_mean = 65\n",
    "alpha = 0.05\n",
    "\n",
    "one_sample_ttest(online_group, pop_mean, alpha)\n"
   ]
  },
  {
   "cell_type": "markdown",
   "metadata": {},
   "source": [
    "## Summary\n",
    "\n",
    "In this lab, you saw a quick introduction to hypothesis testing using frequentist methods with t-values and p-values. You saw how a one sample t-test can be applied to contexts where the population mean is unknown and you have a limited amount of sample data. You looked at all the stages required for such hypothesis testing with a description of steps and also, how to perform these functions in Python. The lesson also briefly explains the comparison of using p-value for statistical significance vs. effect sizes. "
   ]
  }
 ],
 "metadata": {
  "kernelspec": {
   "display_name": "Python 3",
   "language": "python",
   "name": "python3"
  },
  "language_info": {
   "codemirror_mode": {
    "name": "ipython",
    "version": 3
   },
   "file_extension": ".py",
   "mimetype": "text/x-python",
   "name": "python",
   "nbconvert_exporter": "python",
   "pygments_lexer": "ipython3",
   "version": "3.6.9"
  },
  "toc": {
   "base_numbering": 1,
   "nav_menu": {},
   "number_sections": true,
   "sideBar": true,
   "skip_h1_title": false,
   "title_cell": "Table of Contents",
   "title_sidebar": "Contents",
   "toc_cell": false,
   "toc_position": {},
   "toc_section_display": true,
   "toc_window_display": false
  },
  "varInspector": {
   "cols": {
    "lenName": 16,
    "lenType": 16,
    "lenVar": 40
   },
   "kernels_config": {
    "python": {
     "delete_cmd_postfix": "",
     "delete_cmd_prefix": "del ",
     "library": "var_list.py",
     "varRefreshCmd": "print(var_dic_list())"
    },
    "r": {
     "delete_cmd_postfix": ") ",
     "delete_cmd_prefix": "rm(",
     "library": "var_list.r",
     "varRefreshCmd": "cat(var_dic_list()) "
    }
   },
   "types_to_exclude": [
    "module",
    "function",
    "builtin_function_or_method",
    "instance",
    "_Feature"
   ],
   "window_display": false
  }
 },
 "nbformat": 4,
 "nbformat_minor": 2
}
